{
 "cells": [
  {
   "cell_type": "code",
   "execution_count": null,
   "id": "f5819f86",
   "metadata": {},
   "outputs": [],
   "source": [
    "import os\n",
    "import pandas as pd\n",
    "\n",
    "def read_csv_files(directory):\n",
    "    data_frames = []\n",
    "    \n",
    "    for filename in os.listdir(directory):\n",
    "        if filename.endswith(\".csv\"):\n",
    "            file_path = os.path.join(directory, filename)\n",
    "            original_df = pd.read_csv(file_path)\n",
    "            \n",
    "            if len(original_df.columns) == 1:\n",
    "                first_column_name = original_df.columns[0]\n",
    "                column_names = first_column_name.split()\n",
    "\n",
    "                split_columns = original_df.iloc[:, 0].str.split(expand=True)\n",
    "                new_df = pd.concat([original_df, split_columns], axis=1)\n",
    "                new_df = new_df.drop(new_df.columns[0], axis=1)\n",
    "                new_df.columns = column_names\n",
    "                original_df = new_df\n",
    "            \n",
    "            original_df['Station'] = filename.split('.')[0]\n",
    "            data_frames.append(original_df)\n",
    "            \n",
    "    return data_frames\n",
    "\n",
    "csv_directory = '/Users/roshanchandru/Desktop/Dissertation/Dataset/Germany/Indicies/TNn'\n",
    "\n",
    "dataframes = read_csv_files(csv_directory)\n",
    "dataframes"
   ]
  },
  {
   "cell_type": "code",
   "execution_count": null,
   "id": "3883cc25",
   "metadata": {},
   "outputs": [],
   "source": [
    "for i, df in enumerate(dataframes, start=1):\n",
    "    print(f\"Shape of csv{i}:\", df.shape)"
   ]
  },
  {
   "cell_type": "code",
   "execution_count": null,
   "id": "defa4575",
   "metadata": {},
   "outputs": [],
   "source": [
    "print(type(dataframes))"
   ]
  },
  {
   "cell_type": "code",
   "execution_count": null,
   "id": "70109f26",
   "metadata": {},
   "outputs": [],
   "source": [
    "import pandas as pd\n",
    "\n",
    "def merge_csv_files(file_paths):\n",
    "    # Initialize an empty list to store individual DataFrames\n",
    "    dfs = []\n",
    "\n",
    "    # Iterate over each file path\n",
    "    for file_path in file_paths:\n",
    "        # Read each CSV file into a DataFrame and append to the list\n",
    "        df = pd.read_csv(file_path)\n",
    "        dfs.append(df)\n",
    "\n",
    "    # Concatenate all DataFrames in the list along the rows\n",
    "    merged_df_TNn = pd.concat(dfs, ignore_index=True)\n",
    "\n",
    "    return merged_df_TNn\n",
    "\n",
    "# Example usage:\n",
    "merged_df_TXx = pd.concat(dataframes, ignore_index=True)\n",
    "merged_df_TXx"
   ]
  },
  {
   "cell_type": "code",
   "execution_count": null,
   "id": "444cd63e",
   "metadata": {},
   "outputs": [],
   "source": [
    "merged_df_TR.head(30)"
   ]
  },
  {
   "cell_type": "code",
   "execution_count": null,
   "id": "d0be44cd",
   "metadata": {},
   "outputs": [],
   "source": [
    "merged_df_TR.to_csv('TR.csv', index=False)"
   ]
  },
  {
   "cell_type": "code",
   "execution_count": null,
   "id": "ed7ddf90",
   "metadata": {},
   "outputs": [],
   "source": []
  }
 ],
 "metadata": {
  "kernelspec": {
   "display_name": "Python 3 (ipykernel)",
   "language": "python",
   "name": "python3"
  },
  "language_info": {
   "codemirror_mode": {
    "name": "ipython",
    "version": 3
   },
   "file_extension": ".py",
   "mimetype": "text/x-python",
   "name": "python",
   "nbconvert_exporter": "python",
   "pygments_lexer": "ipython3",
   "version": "3.11.5"
  }
 },
 "nbformat": 4,
 "nbformat_minor": 5
}
